{
 "cells": [
  {
   "cell_type": "markdown",
   "metadata": {},
   "source": [
    "# core\n",
    "\n",
    "> Fill in a module description here"
   ]
  },
  {
   "cell_type": "code",
   "execution_count": null,
   "metadata": {},
   "outputs": [],
   "source": [
    "#|export \n",
    "def join_channel(nickname, token, channel):\n",
    "    import socket\n",
    "    server = \"irc.chat.twitch.tv\"\n",
    "    port = 6667\n",
    "\n",
    "    sock = socket.socket()\n",
    "\n",
    "    sock.connect((server,port))\n",
    "\n",
    "    sock.send(f\"PASS {token}\\n\".encode('utf-8'))\n",
    "    sock.send(f\"NICK {nickname}\\n\".encode('utf-8'))\n",
    "    sock.send(f\"JOIN {channel}\\n\".encode('utf-8'))\n",
    "\n",
    "    return sock\n",
    "\n",
    "def read_chat(socket):\n",
    "    import logging\n",
    "\n",
    "    logging.basicConfig(level=logging.DEBUG,\n",
    "                        format='%(asctime)s — %(message)s',\n",
    "                        datefmt='%Y-%m-%d_%H:%M:%S',\n",
    "                        handlers=[logging.FileHandler('chat.log', encoding='utf-8')])\n",
    "\n",
    "    while True:\n",
    "        resp = socket.recv(2048).decode('utf-8')\n",
    "        print(resp)\n",
    "        if resp.startswith('PING'):\n",
    "            socket.send(\"PONG\\n\".encode('utf-8'))\n",
    "        \n",
    "        elif len(resp) > 0:\n",
    "            logging.info(resp)"
   ]
  }
 ],
 "metadata": {
  "kernelspec": {
   "display_name": "python3",
   "language": "python",
   "name": "python3"
  }
 },
 "nbformat": 4,
 "nbformat_minor": 4
}
