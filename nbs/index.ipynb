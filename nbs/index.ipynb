{
 "cells": [
  {
   "cell_type": "code",
   "execution_count": null,
   "metadata": {},
   "outputs": [],
   "source": [
    "#| hide\n",
    "from streamgpt.core import *"
   ]
  },
  {
   "cell_type": "markdown",
   "metadata": {},
   "source": [
    "# streamgpt\n",
    "\n",
    "> StreamGPT: Live Streaming Generative Pre-trained Transformer Experiment"
   ]
  },
  {
   "cell_type": "markdown",
   "metadata": {},
   "source": [
    "## Install"
   ]
  },
  {
   "cell_type": "markdown",
   "metadata": {},
   "source": [
    "```sh\n",
    "git clone https://github.com/TesfaAsmara/streamgpt.git\n",
    "```"
   ]
  },
  {
   "cell_type": "markdown",
   "metadata": {},
   "source": [
    "## How to use\n",
    "\n",
    "To stream messages from Twitch IRC you need to get a to token for authentication. To do that you need to:\n",
    "\n",
    "1. Create a Twitch account\n",
    "2. Go to https://twitchapps.com/tmi/ to request an auth token for your Twitch account. You'll need to click \"Connect with Twitch\" and \"Authorize\" to produce a token\n",
    "\n",
    "\n",
    "Your token should look something like \"oauth:yj23Ds7BB97Hju85QYTenVox12x03\". Including your token, there's two constants we'll define for the connection to a Twitch channel's chat feed:\n",
    "\n",
    "1. Your Twitch account nickname \n",
    "2. The channel you want to join\n",
    "\n",
    "The channel you want to join should be preceeded by a hashtag. So if I wanted to join `https://www.twitch.tv/kaicenat`, then I would pass in `#kaicenat`.\n",
    "\n",
    "## Code\n",
    "\n",
    "```python\n",
    "from core import join_channel, read_chat\n",
    "\n",
    "# Enter your twitch nickname, token\n",
    "socket = join_channel(nickname=\"streamgpt\", \n",
    "                        token=\"oauth:yj23Ds7BB97Hju85QYTenVox12x03\",  \n",
    "                        channel=\"#kaicenat\")\n",
    "\n",
    "# This will store the chat messages to a file named chat.log\n",
    "read_chat(socket)\n",
    "\n",
    "# close the socket when you're done reading messages\n",
    "socket.close()\n",
    "```"
   ]
  }
 ],
 "metadata": {
  "kernelspec": {
   "display_name": "python3",
   "language": "python",
   "name": "python3"
  }
 },
 "nbformat": 4,
 "nbformat_minor": 4
}
